{
 "cells": [
  {
   "cell_type": "code",
   "execution_count": 1,
   "metadata": {},
   "outputs": [],
   "source": [
    "import numpy as np\n",
    "import tensorflow as tf\n",
    "from tensorflow import keras\n",
    "from tensorflow.keras import layers\n",
    "import tensorflow_addons as tfa"
   ]
  },
  {
   "cell_type": "code",
   "execution_count": 2,
   "metadata": {},
   "outputs": [],
   "source": [
    "TRAINING_DIR = 'F:/FER2013_IMG/train'\n",
    "TEST_DIR='F:/FER2013_IMG/test'\n",
    "VAL_DIR='F:/FER2013_IMG/val'"
   ]
  },
  {
   "cell_type": "code",
   "execution_count": 3,
   "metadata": {},
   "outputs": [],
   "source": [
    "num_classes = 7\n",
    "IMG_SIZE = 48\n",
    "BATCH_SIZE = 64\n",
    "input_shape = (48,48,1)\n",
    "\n",
    "learning_rate = 0.001\n",
    "weight_decay = 0.0001\n",
    "num_epochs = 10"
   ]
  },
  {
   "cell_type": "code",
   "execution_count": 4,
   "metadata": {},
   "outputs": [
    {
     "name": "stdout",
     "output_type": "stream",
     "text": [
      "Found 28709 images belonging to 7 classes.\n"
     ]
    }
   ],
   "source": [
    "from keras_preprocessing.image import ImageDataGenerator\n",
    "\n",
    "# Training IDG\n",
    "train_idg = ImageDataGenerator(\n",
    "    rescale = 1./255, \n",
    "    rotation_range=10,\n",
    "    width_shift_range=0.1,\n",
    "    height_shift_range=0.1, \n",
    "    shear_range=0.1, \n",
    "    zoom_range=0.1,\n",
    "    horizontal_flip=True)\n",
    "\n",
    "# Training Gen\n",
    "train_gen = train_idg.flow_from_directory(\n",
    "    TRAINING_DIR,\n",
    "    target_size=(IMG_SIZE,IMG_SIZE),\n",
    "    batch_size=BATCH_SIZE,\n",
    "    shuffle=True,\n",
    "    class_mode='categorical',\n",
    "    subset='training'\n",
    ") \n"
   ]
  },
  {
   "cell_type": "code",
   "execution_count": 5,
   "metadata": {},
   "outputs": [
    {
     "name": "stdout",
     "output_type": "stream",
     "text": [
      "Found 3589 images belonging to 7 classes.\n"
     ]
    }
   ],
   "source": [
    "val_idg = ImageDataGenerator(\n",
    "    rescale = 1./255, \n",
    "    rotation_range=10,\n",
    "    width_shift_range=0.1,\n",
    "    height_shift_range=0.1, \n",
    "    shear_range=0.1, \n",
    "    zoom_range=0.1,\n",
    "    horizontal_flip=True)\n",
    "\n",
    "# Training Gen\n",
    "val_gen = val_idg.flow_from_directory(\n",
    "    VAL_DIR,\n",
    "    target_size=(IMG_SIZE,IMG_SIZE),\n",
    "    batch_size=BATCH_SIZE,\n",
    "    shuffle=True,\n",
    "    class_mode='categorical',\n",
    "    subset='training'\n",
    ")"
   ]
  },
  {
   "cell_type": "code",
   "execution_count": 6,
   "metadata": {},
   "outputs": [
    {
     "name": "stdout",
     "output_type": "stream",
     "text": [
      "Found 3589 images belonging to 7 classes.\n"
     ]
    }
   ],
   "source": [
    "test_idg = ImageDataGenerator(rescale=1./255)\n",
    "\n",
    "# Test Gen\n",
    "test_gen = test_idg.flow_from_directory(\n",
    "        TEST_DIR,\n",
    "        target_size=(IMG_SIZE, IMG_SIZE),\n",
    "        shuffle=True,\n",
    "        class_mode='categorical',\n",
    "    \n",
    ")"
   ]
  },
  {
   "cell_type": "code",
   "execution_count": 8,
   "metadata": {},
   "outputs": [
    {
     "name": "stdout",
     "output_type": "stream",
     "text": [
      "Model: \"model\"\n",
      "_________________________________________________________________\n",
      "Layer (type)                 Output Shape              Param #   \n",
      "=================================================================\n",
      "input_1 (InputLayer)         [(None, 48, 48, 3)]       0         \n",
      "_________________________________________________________________\n",
      "block1_conv1 (Conv2D)        (None, 48, 48, 64)        1792      \n",
      "_________________________________________________________________\n",
      "block1_conv2 (Conv2D)        (None, 48, 48, 64)        36928     \n",
      "_________________________________________________________________\n",
      "block1_pool (MaxPooling2D)   (None, 24, 24, 64)        0         \n",
      "_________________________________________________________________\n",
      "block2_conv1 (Conv2D)        (None, 24, 24, 128)       73856     \n",
      "_________________________________________________________________\n",
      "block2_conv2 (Conv2D)        (None, 24, 24, 128)       147584    \n",
      "_________________________________________________________________\n",
      "block2_pool (MaxPooling2D)   (None, 12, 12, 128)       0         \n",
      "_________________________________________________________________\n",
      "block3_conv1 (Conv2D)        (None, 12, 12, 256)       295168    \n",
      "_________________________________________________________________\n",
      "block3_conv2 (Conv2D)        (None, 12, 12, 256)       590080    \n",
      "_________________________________________________________________\n",
      "block3_conv3 (Conv2D)        (None, 12, 12, 256)       590080    \n",
      "_________________________________________________________________\n",
      "block3_pool (MaxPooling2D)   (None, 6, 6, 256)         0         \n",
      "_________________________________________________________________\n",
      "block4_conv1 (Conv2D)        (None, 6, 6, 512)         1180160   \n",
      "_________________________________________________________________\n",
      "block4_conv2 (Conv2D)        (None, 6, 6, 512)         2359808   \n",
      "_________________________________________________________________\n",
      "block4_conv3 (Conv2D)        (None, 6, 6, 512)         2359808   \n",
      "_________________________________________________________________\n",
      "block4_pool (MaxPooling2D)   (None, 3, 3, 512)         0         \n",
      "_________________________________________________________________\n",
      "block5_conv1 (Conv2D)        (None, 3, 3, 512)         2359808   \n",
      "_________________________________________________________________\n",
      "block5_conv2 (Conv2D)        (None, 3, 3, 512)         2359808   \n",
      "_________________________________________________________________\n",
      "block5_conv3 (Conv2D)        (None, 3, 3, 512)         2359808   \n",
      "_________________________________________________________________\n",
      "block5_pool (MaxPooling2D)   (None, 1, 1, 512)         0         \n",
      "_________________________________________________________________\n",
      "flatten (Flatten)            (None, 512)               0         \n",
      "_________________________________________________________________\n",
      "dense (Dense)                (None, 128)               65664     \n",
      "_________________________________________________________________\n",
      "batch_normalization (BatchNo (None, 128)               512       \n",
      "_________________________________________________________________\n",
      "dropout (Dropout)            (None, 128)               0         \n",
      "_________________________________________________________________\n",
      "dense_1 (Dense)              (None, 7)                 903       \n",
      "=================================================================\n",
      "Total params: 14,781,767\n",
      "Trainable params: 66,823\n",
      "Non-trainable params: 14,714,944\n",
      "_________________________________________________________________\n"
     ]
    }
   ],
   "source": [
    "from tensorflow.keras.optimizers import Adam\n",
    "import keras\n",
    "                \n",
    "base_model = keras.applications.VGG16(\n",
    "             weights = 'imagenet',\n",
    "             input_shape=(48, 48, 3),\n",
    "             include_top=False)\n",
    "                \n",
    "base_model.trainable = False\n",
    "                \n",
    "x = base_model.output\n",
    "\n",
    "x = keras.layers.Flatten()(x)\n",
    "x = keras.layers.Dense(128, activation='relu')(x)\n",
    "x = keras.layers.BatchNormalization()(x)\n",
    "x = keras.layers.Dropout(0.6)(x)\n",
    "                \n",
    "outputs = keras.layers.Dense(num_classes, activation='softmax')(x)\n",
    "\n",
    "                    \n",
    "model = keras.Model(base_model.input, outputs)\n",
    "for layer in base_model.layers:\n",
    "    layer.trainable = False\n",
    "\n",
    "model.compile(loss='categorical_crossentropy',\n",
    "                optimizer=Adam(lr=0.001),\n",
    "                metrics=['accuracy',\n",
    "                        tf.keras.metrics.Precision(name='precision'),\n",
    "                        tf.keras.metrics.Recall(name='recall')]\n",
    "                        )\n",
    "model.summary()"
   ]
  },
  {
   "cell_type": "code",
   "execution_count": 10,
   "metadata": {},
   "outputs": [
    {
     "name": "stdout",
     "output_type": "stream",
     "text": [
      "Epoch 1/5\n",
      "448/448 [==============================] - 620s 1s/step - loss: 1.6203 - accuracy: 0.3644 - precision: 0.5884 - recall: 0.0773 - val_loss: 1.5804 - val_accuracy: 0.3873 - val_precision: 0.6680 - val_recall: 0.0938\n",
      "Epoch 2/5\n",
      "448/448 [==============================] - 176s 394ms/step - loss: 1.6094 - accuracy: 0.3698 - precision: 0.5982 - recall: 0.0802 - val_loss: 1.5805 - val_accuracy: 0.3870 - val_precision: 0.6050 - val_recall: 0.1214\n",
      "Epoch 3/5\n",
      "448/448 [==============================] - 205s 457ms/step - loss: 1.6124 - accuracy: 0.3731 - precision: 0.5921 - recall: 0.0805 - val_loss: 1.5832 - val_accuracy: 0.3842 - val_precision: 0.6526 - val_recall: 0.0776\n",
      "Epoch 4/5\n",
      "448/448 [==============================] - 181s 403ms/step - loss: 1.6044 - accuracy: 0.3748 - precision: 0.5884 - recall: 0.0822 - val_loss: 1.5891 - val_accuracy: 0.3803 - val_precision: 0.6695 - val_recall: 0.0656\n",
      "Epoch 5/5\n",
      "448/448 [==============================] - 179s 400ms/step - loss: 1.6070 - accuracy: 0.3731 - precision: 0.6018 - recall: 0.0843 - val_loss: 1.5788 - val_accuracy: 0.3836 - val_precision: 0.6401 - val_recall: 0.0988\n"
     ]
    }
   ],
   "source": [
    "STEP_SIZE_TRAIN = train_gen.n // train_gen.batch_size\n",
    "STEP_SIZE_VALID = val_gen.n // val_gen.batch_size\n",
    "\n",
    "history=model.fit(x = train_gen,\n",
    "          steps_per_epoch = STEP_SIZE_TRAIN,\n",
    "          validation_data = val_gen,\n",
    "          validation_steps = STEP_SIZE_VALID,\n",
    "          epochs = 5)"
   ]
  },
  {
   "cell_type": "code",
   "execution_count": 11,
   "metadata": {},
   "outputs": [
    {
     "name": "stdout",
     "output_type": "stream",
     "text": [
      "INFO:tensorflow:Assets written to: F:/Xray_Gaus/Vgg16_FER_wt\\assets\n"
     ]
    },
    {
     "data": {
      "text/plain": [
       "{'loss': [1.6203203201293945,\n",
       "  1.6094375848770142,\n",
       "  1.6123743057250977,\n",
       "  1.604427695274353,\n",
       "  1.6070445775985718],\n",
       " 'accuracy': [0.3644266128540039,\n",
       "  0.3698027431964874,\n",
       "  0.37308430671691895,\n",
       "  0.37482979893684387,\n",
       "  0.37311920523643494],\n",
       " 'precision': [0.5883603692054749,\n",
       "  0.5981770753860474,\n",
       "  0.5921458005905151,\n",
       "  0.5884115695953369,\n",
       "  0.6017941832542419],\n",
       " 'recall': [0.07729097455739975,\n",
       "  0.08018851280212402,\n",
       "  0.08053761720657349,\n",
       "  0.08224821090698242,\n",
       "  0.08430790901184082],\n",
       " 'val_loss': [1.5803688764572144,\n",
       "  1.5804712772369385,\n",
       "  1.583208441734314,\n",
       "  1.5890893936157227,\n",
       "  1.5788218975067139],\n",
       " 'val_accuracy': [0.3872767984867096,\n",
       "  0.3869977593421936,\n",
       "  0.3842075765132904,\n",
       "  0.3803013265132904,\n",
       "  0.3836495578289032],\n",
       " 'val_precision': [0.6679920554161072,\n",
       "  0.6050069332122803,\n",
       "  0.6525821685791016,\n",
       "  0.6695156693458557,\n",
       "  0.6401446461677551],\n",
       " 'val_recall': [0.09375,\n",
       "  0.1213727667927742,\n",
       "  0.0775669664144516,\n",
       "  0.0655691996216774,\n",
       "  0.0987723246216774]}"
      ]
     },
     "execution_count": 11,
     "metadata": {},
     "output_type": "execute_result"
    }
   ],
   "source": [
    "model.save('F:/Xray_Gaus/Vgg16_FER_wt')\n",
    "\n",
    "history.history"
   ]
  },
  {
   "cell_type": "code",
   "execution_count": 12,
   "metadata": {},
   "outputs": [
    {
     "name": "stdout",
     "output_type": "stream",
     "text": [
      "113/113 [==============================] - 36s 318ms/step - loss: 1.5396 - accuracy: 0.3993 - precision: 0.6335 - recall: 0.1137\n"
     ]
    }
   ],
   "source": [
    "results = model.evaluate(test_gen, batch_size=128)"
   ]
  },
  {
   "cell_type": "code",
   "execution_count": 13,
   "metadata": {},
   "outputs": [
    {
     "name": "stdout",
     "output_type": "stream",
     "text": [
      "113/113 [==============================] - 20s 176ms/step\n"
     ]
    }
   ],
   "source": [
    "y_pred = model.predict(test_gen, verbose=1)\n",
    "y_pred = np.argmax(y_pred, axis = 1)"
   ]
  },
  {
   "cell_type": "code",
   "execution_count": 14,
   "metadata": {},
   "outputs": [],
   "source": [
    "y_true=test_gen.labels"
   ]
  },
  {
   "cell_type": "code",
   "execution_count": 15,
   "metadata": {},
   "outputs": [
    {
     "name": "stdout",
     "output_type": "stream",
     "text": [
      "              precision    recall  f1-score   support\n",
      "\n",
      "           0       0.15      0.04      0.06       491\n",
      "           1       0.00      0.00      0.00        55\n",
      "           2       0.13      0.08      0.10       528\n",
      "           3       0.24      0.43      0.31       879\n",
      "           4       0.14      0.08      0.10       594\n",
      "           5       0.12      0.13      0.12       416\n",
      "           6       0.18      0.23      0.20       626\n",
      "\n",
      "    accuracy                           0.19      3589\n",
      "   macro avg       0.14      0.14      0.13      3589\n",
      "weighted avg       0.17      0.19      0.17      3589\n",
      "\n",
      "C:\\Users\\mprad\\anaconda3\\lib\\site-packages\\sklearn\\metrics\\_classification.py:1221: UndefinedMetricWarning: Precision and F-score are ill-defined and being set to 0.0 in labels with no predicted samples. Use `zero_division` parameter to control this behavior.\n",
      "  _warn_prf(average, modifier, msg_start, len(result))\n"
     ]
    }
   ],
   "source": [
    "from sklearn.metrics import classification_report\n",
    "\n",
    "print(classification_report(y_true, y_pred))\n"
   ]
  },
  {
   "cell_type": "code",
   "execution_count": 16,
   "metadata": {},
   "outputs": [
    {
     "data": {
      "text/plain": [
       "array([[ 18,   0,  52, 207,  45,  58, 111],\n",
       "       [  1,   0,   6,  25,   6,   7,  10],\n",
       "       [ 16,   0,  44, 224,  55,  63, 126],\n",
       "       [ 35,   0,  79, 374,  79, 101, 211],\n",
       "       [ 20,   0,  61, 267,  49,  74, 123],\n",
       "       [ 16,   0,  43, 175,  48,  53,  81],\n",
       "       [ 15,   0,  57, 273,  61,  77, 143]], dtype=int64)"
      ]
     },
     "execution_count": 16,
     "metadata": {},
     "output_type": "execute_result"
    }
   ],
   "source": [
    "from sklearn.metrics import confusion_matrix\n",
    "confusion_matrix(y_true, y_pred)"
   ]
  },
  {
   "cell_type": "code",
   "execution_count": null,
   "metadata": {},
   "outputs": [],
   "source": []
  }
 ],
 "metadata": {
  "kernelspec": {
   "display_name": "Python 3",
   "language": "python",
   "name": "python3"
  },
  "language_info": {
   "codemirror_mode": {
    "name": "ipython",
    "version": 3
   },
   "file_extension": ".py",
   "mimetype": "text/x-python",
   "name": "python",
   "nbconvert_exporter": "python",
   "pygments_lexer": "ipython3",
   "version": "3.8.5"
  }
 },
 "nbformat": 4,
 "nbformat_minor": 2
}
